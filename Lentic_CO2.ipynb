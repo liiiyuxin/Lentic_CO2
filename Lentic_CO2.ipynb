{
 "cells": [
  {
   "attachments": {},
   "cell_type": "markdown",
   "id": "308be024-0ffe-4944-ac3a-1ab05cb04804",
   "metadata": {},
   "source": [
    "# **Estimate CO2 emissions from lakes and reservoirs**"
   ]
  },
  {
   "cell_type": "code",
   "execution_count": 19,
   "id": "91e3b0b2-0dc2-4652-9a16-68569a9bf3ae",
   "metadata": {},
   "outputs": [],
   "source": [
    "# @Date    : 2025-07-30\n",
    "# @Author  : Li Yuxin (leeeyuxin@connect.hku.hk)\n",
    "# @Link    : https://github.com/liiiyuxin/Lentic_CO2.git\n",
    "# @Version : 3.13.5"
   ]
  },
  {
   "cell_type": "markdown",
   "id": "f161f905-6a80-41cc-b236-b2d825fd4b3d",
   "metadata": {},
   "source": [
    "# <span style=\"color:blue\"> *Setups* </span>"
   ]
  },
  {
   "cell_type": "code",
   "execution_count": 2,
   "id": "e4754e54-f0e4-4d47-959b-70fba197ebc2",
   "metadata": {},
   "outputs": [],
   "source": [
    "## env--rf\n",
    "%load_ext autoreload\n",
    "%autoreload 2\n",
    "\n",
    "import warnings\n",
    "warnings.filterwarnings('ignore')\n",
    "warnings.simplefilter(action='ignore', category=FutureWarning)"
   ]
  },
  {
   "cell_type": "code",
   "execution_count": 3,
   "id": "32046106-9fa4-4217-9a1d-50f2ce1d0c34",
   "metadata": {},
   "outputs": [],
   "source": [
    "import pandas as pd\n",
    "import numpy as np\n",
    "import xarray as xr\n",
    "import geopandas as gpd\n",
    "import matplotlib.pyplot as plt\n",
    "import matplotlib.dates as mdates\n",
    "import seaborn as sns\n",
    "import statsmodels.api as sm\n",
    "\n",
    "import glob\n",
    "import os\n",
    "import scipy.io\n",
    "import math\n",
    "import calendar\n",
    "import matplotlib as mpl\n",
    "\n",
    "from cartopy.mpl.ticker import LongitudeFormatter, LatitudeFormatter\n",
    "from PIL import Image\n",
    "from osgeo import gdal\n",
    "from matplotlib import cm\n",
    "from matplotlib.patches import Patch\n",
    "from geopy.distance import geodesic\n",
    "\n",
    "import rasterio\n",
    "from rasterio.transform import from_origin\n",
    "from rasterio.transform import rowcol\n",
    "import contextily as ctx\n",
    "\n",
    "from sklearn.ensemble import BaggingRegressor, GradientBoostingRegressor, RandomForestRegressor\n",
    "from sklearn.model_selection import train_test_split\n",
    "from sklearn.preprocessing import MinMaxScaler\n",
    "from sklearn.svm import SVR\n",
    "from sklearn.metrics import r2_score, mean_absolute_error, mean_squared_error\n",
    "from sklearn.linear_model import LinearRegression\n",
    "from itertools import combinations\n",
    "from scipy.stats import gaussian_kde, pearsonr\n",
    "\n",
    "import xgboost as xgb\n",
    "import shap"
   ]
  },
  {
   "cell_type": "markdown",
   "id": "6164d6eb-dedc-4d1d-bca9-a705cc8f684d",
   "metadata": {},
   "source": [
    "# <span style=\"color:blue\"> *Function* </span>"
   ]
  },
  {
   "cell_type": "code",
   "execution_count": 4,
   "id": "4a51611b-78d6-4349-8c61-d66fefc68738",
   "metadata": {},
   "outputs": [],
   "source": [
    "def POWER(a, b):\n",
    "    return a ** b\n",
    "    \n",
    "def cal_pCO2water(TAlk, WT, pH):\n",
    "    # calculate the pCO2water\n",
    "    # ref: Sharp, J. et al. CO2SYSv3 for MATLAB. Zenodo. doi 10, (2021)\n",
    "    \n",
    "    # -- input:\n",
    "    # TAlk: total alkalinity [µeq/L]\n",
    "    # WT: water tempreture [°C]\n",
    "    # pH [/]\n",
    "    \n",
    "    # -- output:\n",
    "    # pCO2water: surface water CO2 partial pressure [μatm]\n",
    "    \n",
    "    T6 = pH\n",
    "    U6 = WT\n",
    "    V6 = TAlk\n",
    "    pCO2water = round(((V6-((POWER(10,-(0.00009*POWER(U6,2)-0.0137*U6+10.62)))*V6/(2*(POWER(10,-(0.00009*POWER(U6,2)-0.0137*U6+10.62)))+POWER(10,-T6))))*POWER(10,-T6)/POWER(10,-(0.00011*POWER(U6,2)-0.012*U6+6.58)))/(POWER(10,-(-0.00007*POWER(U6,2)+0.016*U6+1.11))),0)\n",
    "    return pCO2water"
   ]
  },
  {
   "cell_type": "code",
   "execution_count": 5,
   "id": "e1b37774-5e55-4986-a3f0-6c554dc310b5",
   "metadata": {},
   "outputs": [],
   "source": [
    "def cal_k(WT, WS):\n",
    "    # calculate the gas transfer velocity in lakes and reservoirs\n",
    "    # ref1: Wanninkhof, R. Relationship between wind speed and gas exchange over the ocean revisited. Limnol. Oceanogr. Methods 12, 351–362 (2014).\n",
    "    # ref2: Cole, J. J. & Caraco, N. F. Atmospheric exchange of carbon dioxide in a low‐wind oligotrophic lake measured by the addition of SF6. Limnol. Oceanogr. Methods 43, 647–656 (1998).\n",
    "    \n",
    "    # -- input:\n",
    "    # k: Gas transfer velocity [cm/hr]\n",
    "    # WT: Water temperature [°C]\n",
    "    # WS: Wind Speed at 10m [m/s]\n",
    "\n",
    "    # -- output:\n",
    "    # Sc: Schmidt number [/]\n",
    "    \n",
    "    WT = np.asarray(WT)\n",
    "    WS = np.asarray(WS)\n",
    "    k = np.zeros_like(WT)\n",
    "\n",
    "    # calculate Sc\n",
    "    Sc = 1923.6 - 125.06 * WT + 4.3773 * WT ** 2 - 0.085681 * WT ** 3 + 0.00070284 * WT ** 4\n",
    "    \n",
    "    # calculate k under different wind speed levels\n",
    "    k[WS < 3.7] = (2.07 + 0.215 * WS[WS < 3.7] ** 1.7) * (Sc[WS < 3.7] / 600) ** -2/3\n",
    "    k[WS >= 3.7] = 0.251 * WS[WS >= 3.7] ** 2 * (Sc[WS >= 3.7] / 600) ** -1/2\n",
    "\n",
    "    return k"
   ]
  },
  {
   "cell_type": "code",
   "execution_count": 6,
   "id": "3cd5126d-f6ab-4146-9325-452daba50fec",
   "metadata": {},
   "outputs": [],
   "source": [
    "def cal_kH(WT):\n",
    "    # calculate Henry’s constant for CO2 corrected for temperature in lakes and reservoirs\n",
    "    # ref: Weiss, R. F. Carbon dioxide in water and seawater: the solubility of a non-ideal gas. Mar. Chem. 2, 203–215 (1974).\n",
    "\n",
    "    # -- input:\n",
    "    # WT: Water temperature [K]\n",
    "\n",
    "    # -- output:\n",
    "    # kH: Henry constant [mol L-1 atm-1]\n",
    "    \n",
    "    WT = np.asarray(WT)\n",
    "    kH = np.full(WT.shape, np.nan)\n",
    "    valid_indices = ~np.isnan(WT)\n",
    "    kH[valid_indices] = np.exp(-58.0931 + 90.5069 * 100 / WT[valid_indices] + 22.294 * np.log(WT[valid_indices] / 100))\n",
    "    \n",
    "    return kH"
   ]
  },
  {
   "attachments": {},
   "cell_type": "markdown",
   "id": "14400986-62af-408b-a057-73e47b555a2f",
   "metadata": {},
   "source": [
    "# <span style=\"color:red\"> *Modelling of total alkalinity* </span>"
   ]
  },
  {
   "cell_type": "code",
   "execution_count": 7,
   "id": "c216625f-eaf6-425c-8ebd-320bd843dee3",
   "metadata": {},
   "outputs": [],
   "source": [
    "##### read data\n",
    "\n",
    "path_GLORICH = '/Users/leee/OneDrive/HKU/Data/Glorich_V01_CSV_plus_Shapefiles_2019_05_24/hydrochemistry.csv'\n",
    "# DataSource: https://doi.pangaea.de/10.1594/PANGAEA.902360\n",
    "\n",
    "df_glorich = pd.read_csv(path_GLORICH, encoding='GBK')\n",
    "df_glorich = df_glorich[['STAT_ID','Temp_water', 'pH', 'DO_mgL', 'SpecCond25C', 'TN', 'TP', 'Alkalinity']]\n",
    "df_glorich.rename(columns={'Temp_water': 'WT', 'DO_mgL': 'DO', 'SpecCond25C': 'EC', 'Alkalinity': 'TAlk'}, inplace=True)\n",
    "df_glorich = df_glorich.dropna(axis=0).reset_index(drop=True) # Drop missing values\n",
    "df_glorich = df_glorich[['WT', 'pH', 'DO', 'EC', 'TN', 'TP', 'TAlk']]\n",
    "\n",
    "# Convert the unit of TN & TP from µmol/L to mg/L\n",
    "df_glorich['TN'] = df_glorich['TN']/ 1000 * 14.007\n",
    "df_glorich['TP'] = df_glorich['TP']/ 1000 * 30.974"
   ]
  },
  {
   "cell_type": "code",
   "execution_count": 8,
   "id": "d098fedd-352a-4ae2-93c0-9a855084efd9",
   "metadata": {},
   "outputs": [],
   "source": [
    "##### Comparison of the performance of the two machine learning models in the prediction of total alkalinity\n",
    "\n",
    "### Define feature variables and target variable\n",
    "X = df_glorich[['WT', 'pH', 'DO', 'EC', 'TN', 'TP']]\n",
    "y = df_glorich['TAlk']\n",
    "\n",
    "### Split data into training and testing sets\n",
    "X_train, X_test, y_train, y_test = train_test_split(X, y, test_size=0.3, random_state=50)"
   ]
  },
  {
   "cell_type": "code",
   "execution_count": 9,
   "id": "4dfc7cb3-a19d-4335-8f7e-486f80c0d82d",
   "metadata": {},
   "outputs": [
    {
     "name": "stdout",
     "output_type": "stream",
     "text": [
      "Model performance of RF-BAT:\n",
      "- Slope: 0.7488218308549538\n",
      "- R2: 0.7728785565409519\n",
      "- NRMSE: 0.5597979757185385\n",
      "- MRE(%): -8.439821177841187\n"
     ]
    }
   ],
   "source": [
    "### Fit the RF_BAT model to training data\n",
    "model_rfbat = RandomForestRegressor()\n",
    "model_rfbat.fit(X_train, y_train)\n",
    "\n",
    "# Predict target values for test data\n",
    "y_pred = model_rfbat.predict(X_test)\n",
    "\n",
    "# Calculate performance metrics\n",
    "model_lr = LinearRegression()\n",
    "model_lr.fit(y_test.values.reshape(-1, 1), y_pred)\n",
    "slope = model_lr.coef_[0]\n",
    "r2 = r2_score(y_test, y_pred)\n",
    "rmse = np.sqrt(np.mean((y_test - y_pred) ** 2))\n",
    "nrmse = rmse / np.std(y_pred)\n",
    "mre = np.mean(((y_test - y_pred) / y_test)) * 100\n",
    "\n",
    "# Output model performance metrics\n",
    "print('Model performance of RF-BAT:')\n",
    "print(f'- Slope: {slope}')\n",
    "print(f'- R2: {r2}')\n",
    "print(f'- NRMSE: {nrmse}')\n",
    "print(f'- MRE(%): {mre}')"
   ]
  },
  {
   "cell_type": "code",
   "execution_count": 10,
   "id": "39972c3a-8173-4377-bcbb-57aa8db63183",
   "metadata": {},
   "outputs": [
    {
     "name": "stdout",
     "output_type": "stream",
     "text": [
      "Model performance of XGBoost:\n",
      "- Slope: 0.7730325927055115\n",
      "- R2: 0.7733532676372779\n",
      "- NRMSE: 0.5415894986663005\n",
      "- MRE(%): -7.737216116988645\n"
     ]
    }
   ],
   "source": [
    "### Fit the XGBoost model to training data\n",
    "model_xgb = xgb.XGBRegressor()\n",
    "model_xgb.fit(X_train, y_train)\n",
    "\n",
    "# Predict target values for test data\n",
    "y_pred = model_xgb.predict(X_test)\n",
    "\n",
    "# Calculate performance metrics\n",
    "model_lr = LinearRegression()\n",
    "model_lr.fit(y_test.values.reshape(-1, 1), y_pred)\n",
    "slope = model_lr.coef_[0]\n",
    "r2 = r2_score(y_test, y_pred)\n",
    "rmse = np.sqrt(np.mean((y_test - y_pred) ** 2))\n",
    "nrmse = rmse / np.std(y_pred)\n",
    "mre = np.mean(((y_test - y_pred) / y_test)) * 100\n",
    "\n",
    "# Output model performance metrics\n",
    "print('Model performance of XGBoost:')\n",
    "print(f'- Slope: {slope}')\n",
    "print(f'- R2: {r2}')\n",
    "print(f'- NRMSE: {nrmse}')\n",
    "print(f'- MRE(%): {mre}')"
   ]
  },
  {
   "cell_type": "code",
   "execution_count": 11,
   "id": "2fe71d9e-5dfa-4049-8785-eab0f1d0f8e9",
   "metadata": {},
   "outputs": [
    {
     "name": "stdout",
     "output_type": "stream",
     "text": [
      "           Predictor groups     Slope        R2     NRMSE    MRE(%)\n",
      "0  [WT, pH, DO, EC, TN, TP]  0.773033  0.773353  0.541589 -7.737216\n",
      "1      [WT, pH, EC, TN, TP]  0.769237  0.765587  0.550723 -8.178742\n",
      "2      [pH, DO, EC, TN, TP]  0.766761  0.757047  0.559370 -8.245745\n",
      "3      [WT, pH, DO, EC, TN]  0.762257  0.756667  0.562945 -8.593666\n",
      "4          [pH, EC, TN, TP]  0.754356  0.749372  0.574524 -7.968240\n"
     ]
    }
   ],
   "source": [
    "##### Identify the top five predictor groups in the prediction of total alkalinity for XGBoost\n",
    "import itertools\n",
    "predictors = ['WT', 'pH', 'DO', 'EC', 'TN', 'TP']\n",
    "predictor_groups = []\n",
    "scores = []\n",
    "\n",
    "for r in range(1, len(predictors)+1):\n",
    "    for comb in itertools.combinations(predictors, r):\n",
    "        X = df_glorich[list(comb)]\n",
    "        y = df_glorich['TAlk']\n",
    "\n",
    "        X_train, X_test, y_train, y_test = train_test_split(X, y, test_size=0.3, random_state=50)\n",
    "\n",
    "        model = xgb.XGBRegressor()\n",
    "        model.fit(X_train, y_train)\n",
    "        y_pred = model.predict(X_test)\n",
    "\n",
    "        model_lr = LinearRegression()\n",
    "        model_lr.fit(y_test.values.reshape(-1, 1), y_pred)\n",
    "        slope = model_lr.coef_[0]\n",
    "        r2 = r2_score(y_test, y_pred)\n",
    "        rmse = np.sqrt(np.mean((y_test - y_pred) ** 2))\n",
    "        nrmse = rmse/np.std(y_pred)\n",
    "        mae = mean_absolute_error(y_test, y_pred)\n",
    "        mre = np.mean(((y_test - y_pred) / y_test)) * 100\n",
    "\n",
    "        predictor_groups.append(list(comb))\n",
    "        scores.append((slope, r2, nrmse, mre))\n",
    "\n",
    "results = pd.DataFrame({'Predictor groups': predictor_groups, 'Slope': [score[0] for score in scores],\n",
    "                       'R2': [score[1] for score in scores], 'NRMSE': [score[2] for score in scores], \n",
    "                       'MRE(%)': [score[3] for score in scores]})\n",
    "top5_results = results.sort_values(by='R2', ascending=False, ignore_index=True).head(5)\n",
    "del results, predictor_groups, scores\n",
    "print(top5_results)"
   ]
  },
  {
   "cell_type": "markdown",
   "id": "5893fbb2-db62-49b8-b383-9fd5f3ee419d",
   "metadata": {},
   "source": [
    "# <span style=\"color:red\"> *Estimation of pCO2water* </span>"
   ]
  },
  {
   "cell_type": "code",
   "execution_count": 12,
   "id": "f2f74a53-0944-47bb-abb0-06971c27dd5e",
   "metadata": {},
   "outputs": [],
   "source": [
    "##### Read water chemistry data\n",
    "df = pd.read_csv('/Users/leee/OneDrive/HKU/Project/CO2_china/Code/input_data/water_chemistry_example.txt', sep='\\t')\n",
    "\n",
    "##### Estimate WT with t2m\n",
    "# ref: Mohseni, O., Stefan, H. G. & Erickson, T. R. A nonlinear regression model for weekly stream temperatures. Water Resour. Res. 34, 2685–2692 (1998)\n",
    "# WT: Water temperature [°C]\n",
    "# t2m: Air temperature at 2 m height [°C]\n",
    "df['WT'] = 0.8 + (26.2 - 0.8)/(1 + np.exp( 0.18 * (13.3 - df['t2m'])))\n",
    "\n",
    "##### Estimate TAlk with WT, pH, DO, EC, TN and TP\n",
    "df['TAlk'] = model_xgb.predict(df[['WT', 'pH', 'DO', 'EC', 'TN', 'TP']])\n",
    "\n",
    "##### Estimate pCO2water with TAlk, WT and pH\n",
    "df['pCO2_water'] = cal_pCO2water(df['TAlk'], df['WT'], df['pH'])"
   ]
  },
  {
   "cell_type": "markdown",
   "id": "b49d8bd5-617c-4af5-b781-fc2ce5c0d16f",
   "metadata": {},
   "source": [
    "# <span style=\"color:red\"> Estimation of areal CO2 emission rate</span>"
   ]
  },
  {
   "cell_type": "code",
   "execution_count": 13,
   "id": "7df47ced-ed01-4afe-a781-a9864c742d15",
   "metadata": {},
   "outputs": [],
   "source": [
    "# Estimate gas transfer velocity\n",
    "# k: gas transfer velocity [cm h−1]\n",
    "df['k'] = cal_k(df['WT'].values, df['si10'].values)\n",
    "\n",
    "# Estimate Henry’s constant for CO2\n",
    "# kH: Henry’s constant for CO2 [/]\n",
    "df['kH'] = cal_kH(df['WT'].values + 273.15)\n",
    "\n",
    "# Calculate areal CO2 emission rate\n",
    "# F_CO2: Areal CO2 emission rate [g CO2 m-2 d-1]\n",
    "df['F_CO2'] = df['k'] * df['kH'] * (df['pCO2_water'] - df['pCO2_air']) * 44 /1000"
   ]
  },
  {
   "cell_type": "markdown",
   "id": "ec08e411-d05e-40ff-9138-0aadf77bfd68",
   "metadata": {},
   "source": [
    "# <span style=\"color:red\"> Estimation of total CO2 efflux </span>"
   ]
  },
  {
   "cell_type": "code",
   "execution_count": 14,
   "id": "e3f7d640-959c-4ec7-aea9-b5fd2fe52d3f",
   "metadata": {},
   "outputs": [],
   "source": [
    "#### Get number of days in the year\n",
    "df['n_days'] = df['year'].apply(lambda y: 366 if calendar.isleap(y) else 365)\n",
    "\n",
    "#### Calculate total CO2 efflux\n",
    "# E_CO2: Total CO2 emissions [Tg CO2 yr-1]\n",
    "# Area: Water surface area [km2]\n",
    "df['E_CO2'] = (df['F_CO2']) * (df['Area'] * 10**6) * df['n_days'] / 10**12"
   ]
  },
  {
   "attachments": {},
   "cell_type": "markdown",
   "id": "4cdc31fa-b752-4ace-b9bf-5fa83203b196",
   "metadata": {},
   "source": [
    "# <span style=\"color:red\"> Identify the driving factors of FCO2</span>"
   ]
  },
  {
   "cell_type": "code",
   "execution_count": 15,
   "id": "5e19343f-7a6e-41df-b5c0-607dcff5145b",
   "metadata": {},
   "outputs": [],
   "source": [
    "### Define feature categories\n",
    "meteorological_factors = ['t2m', 'precip', 'si10', 'ssrd', 'pCO2_air']\n",
    "soil_properties_factors = ['cSoil', 'Soil_TP', 'Soil_TN', 'Soil_PH']\n",
    "terrestrial_productivity_factors = ['NDVI', 'gpp_mod', 'npp_mod']\n",
    "human_activity_factors = ['pop', 'N_total', 'Cropland']\n",
    "water_chemistry_factors = ['pH', 'DO', 'EC', 'Tur', 'NH4-N', 'TN', 'TP', 'DOC']\n",
    "\n",
    "factors_dict = {\n",
    "    'Meteorology': meteorological_factors,\n",
    "    'Soil Properties': soil_properties_factors,\n",
    "    'Human Activity': human_activity_factors,\n",
    "    'Terrestrial Productivity': terrestrial_productivity_factors,\n",
    "    'Water Chemistry': water_chemistry_factors\n",
    "}"
   ]
  },
  {
   "cell_type": "code",
   "execution_count": 16,
   "id": "86268077-9e0d-4169-91d9-43f185d3f6dd",
   "metadata": {},
   "outputs": [
    {
     "name": "stdout",
     "output_type": "stream",
     "text": [
      "Model performance:\n",
      "- Slope: 0.9404485949306894\n",
      "- R2: 0.909523661078186\n",
      "- NRMSE: 0.3052151812114331\n",
      "- MRE(%): -3.1557090356016033\n"
     ]
    }
   ],
   "source": [
    "### Select the specified columns from the dataframe\n",
    "columns_k = ['F_CO2']+ meteorological_factors + soil_properties_factors + terrestrial_productivity_factors + human_activity_factors +water_chemistry_factors\n",
    "ddf = df[columns_k]\n",
    "\n",
    "### Separate features (X) and target variable (y)\n",
    "X = ddf.drop(columns='F_CO2')\n",
    "y = ddf['F_CO2']\n",
    "\n",
    "### Split data into training and testing sets\n",
    "X_train, X_test, y_train, y_test = train_test_split(X, y, test_size=0.2, random_state=42)\n",
    "\n",
    "### Fit the XGBoost model to training data\n",
    "model = xgb.XGBRegressor(objective='reg:squarederror', n_estimators=100, random_state=42)\n",
    "model.fit(X_train, y_train)\n",
    "\n",
    "### Predict target values for test data\n",
    "y_pred = model.predict(X_test)\n",
    "\n",
    "# Calculate performance metrics\n",
    "model_lr = LinearRegression()\n",
    "model_lr.fit(y_test.values.reshape(-1, 1), y_pred)\n",
    "slope = model_lr.coef_[0]\n",
    "r2 = r2_score(y_test, y_pred)\n",
    "rmse = np.sqrt(np.mean((y_test - y_pred) ** 2))\n",
    "nrmse = rmse / np.std(y_pred)\n",
    "mre = np.mean(((y_test - y_pred) / y_test)) * 100\n",
    "\n",
    "# Output model performance metrics\n",
    "print('Model performance:')\n",
    "print(f'- Slope: {slope}')\n",
    "print(f'- R2: {r2}')\n",
    "print(f'- NRMSE: {nrmse}')\n",
    "print(f'- MRE(%): {mre}')"
   ]
  },
  {
   "cell_type": "code",
   "execution_count": 18,
   "id": "aada14be-6889-4fe8-a739-ddb7aeb8cd5a",
   "metadata": {},
   "outputs": [
    {
     "name": "stdout",
     "output_type": "stream",
     "text": [
      "       Index      SHAP\n",
      "0        t2m  0.490113\n",
      "1     precip  0.008154\n",
      "2       si10  0.655974\n",
      "3       ssrd  0.015712\n",
      "4   pCO2_air  0.063855\n",
      "5      cSoil  0.011796\n",
      "6    Soil_TP  0.011149\n",
      "7    Soil_TN  0.011785\n",
      "8    Soil_PH  0.011620\n",
      "9       NDVI  0.006226\n",
      "10   gpp_mod  0.009011\n",
      "11   npp_mod  0.007751\n",
      "12       pop  0.012467\n",
      "13   N_total  0.024751\n",
      "14  Cropland  0.048810\n",
      "15        pH  0.347156\n",
      "16        DO  0.048997\n",
      "17        EC  0.053984\n",
      "18       Tur  0.115934\n",
      "19     NH4-N  0.008767\n",
      "20        TN  0.019041\n",
      "21        TP  0.029118\n",
      "22       DOC  0.012966\n"
     ]
    }
   ],
   "source": [
    "### Initialize SHAP TreeExplainer for the trained model\n",
    "explainer = shap.TreeExplainer(model)\n",
    "\n",
    "### Calculate SHAP values for the test features\n",
    "shap_values = explainer.shap_values(X_test)\n",
    "\n",
    "### Compute the mean absolute SHAP value for each feature to assess feature importance\n",
    "importances = np.abs(shap_values).mean(axis=0)\n",
    "df_mean_shap = pd.DataFrame({'Index': list(X_test.columns), 'SHAP': importances})\n",
    "print(df_mean_shap)"
   ]
  }
 ],
 "metadata": {
  "kernelspec": {
   "display_name": "Python 3 (ipykernel)",
   "language": "python",
   "name": "python3"
  },
  "language_info": {
   "codemirror_mode": {
    "name": "ipython",
    "version": 3
   },
   "file_extension": ".py",
   "mimetype": "text/x-python",
   "name": "python",
   "nbconvert_exporter": "python",
   "pygments_lexer": "ipython3",
   "version": "3.13.5"
  },
  "widgets": {
   "application/vnd.jupyter.widget-state+json": {
    "state": {},
    "version_major": 2,
    "version_minor": 0
   }
  }
 },
 "nbformat": 4,
 "nbformat_minor": 5
}
